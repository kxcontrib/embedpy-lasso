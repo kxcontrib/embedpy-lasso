{
 "cells": [
  {
   "cell_type": "markdown",
   "metadata": {},
   "source": [
    "# LASSO Regression on the Ames housing dataset\n",
    "\n",
    "This notebook accompanies the Kx whitepaper on using embedPy to explore a regression problem using the Ames Housing Dataset compiled by Dean De Cock for use in data science and statistical modelling education."
   ]
  },
  {
   "cell_type": "markdown",
   "metadata": {},
   "source": [
    "### Data cleaning and pre-processing\n",
    "\n",
    "After loading the data rename any columns starting with numbers to avoid issues when attempting to query or modify. Note that if this is executed from a directory not containing the train.csv file of the data, the file's path will need to be corrected."
   ]
  },
  {
   "cell_type": "code",
   "execution_count": 90,
   "metadata": {},
   "outputs": [],
   "source": [
    "train:(\"IISIISSSSSSSSSSSSIIIISSSSSISSSSSSSISIIISSSSIIIIIIIIIISISISSISIISSSIIIIIISSSIIISSF\";enlist csv)0:`:train.csv\n",
    "train:@[cols train;where cols[train] in `1stFlrSF`2ndFlrSF`3SsnPorch;:;`firFlrSF`secFlrSF`threeSsnPorch] xcol train"
   ]
  },
  {
   "cell_type": "markdown",
   "metadata": {},
   "source": [
    "SalePrice is our target value for the model to train against, log creates a simpler relationship"
   ]
  },
  {
   "cell_type": "code",
   "execution_count": 91,
   "metadata": {},
   "outputs": [],
   "source": [
    "update SalePrice:log SalePrice from `train;\n",
    "y:train.SalePrice;"
   ]
  },
  {
   "cell_type": "markdown",
   "metadata": {},
   "source": [
    "Some data cleanup to check for duplicates and remove obvious outliers"
   ]
  },
  {
   "cell_type": "code",
   "execution_count": 92,
   "metadata": {},
   "outputs": [
    {
     "data": {
      "text/plain": [
       "1b\n"
      ]
     },
     "execution_count": 92,
     "metadata": {},
     "output_type": "execute_result"
    }
   ],
   "source": [
    "count[train]~count exec distinct Id from train"
   ]
  },
  {
   "cell_type": "code",
   "execution_count": 93,
   "metadata": {},
   "outputs": [],
   "source": [
    "delete Id from `train;\n",
    "delete from `train where GrLivArea > 4000;"
   ]
  },
  {
   "cell_type": "markdown",
   "metadata": {},
   "source": [
    "Dynamically update nulls from 'NA' to either 'No' or 'None'"
   ]
  },
  {
   "cell_type": "code",
   "execution_count": 94,
   "metadata": {},
   "outputs": [],
   "source": [
    "updateNulls:{[t]\n",
    "  noneC:`Alley`MasVnrType;\n",
    "  noC:`BsmtQual`BsmtCond`BsmtExposure`BsmtFinType1`BsmtFinType2`Fence`FireplaceQu;\n",
    "  noC,:`GarageType`GarageFinish`GarageQual`GarageCond`MiscFeature`PoolQC;\n",
    "  a:raze{y!{(?;(=;enlist`NA;y);enlist x;y)}[x;]each y}'[`None`No;(noneC;noC)];\n",
    "  ![t;();0b;a]\n",
    " }\n",
    "\n",
    "train:updateNulls train"
   ]
  },
  {
   "cell_type": "markdown",
   "metadata": {},
   "source": [
    "Convert numerical features into categorical features. This will be used later when encoding these fields."
   ]
  },
  {
   "cell_type": "code",
   "execution_count": 95,
   "metadata": {},
   "outputs": [],
   "source": [
    "monthDict:(1+til 12)!`Jan`Feb`Mar`Apr`May`Jun`Jul`Aug`Sep`Oct`Nov`Dec;\n",
    "@[`train;`MoSold;monthDict];\n",
    "subclDict:raze {enlist[x]!enlist[`$\"SC\",string[x]]}each 20 30 40 45 50 60 70 75 80 85 90 120 160 180 190;\n",
    "@[`train;`MSSubClass;subclDict];"
   ]
  },
  {
   "cell_type": "markdown",
   "metadata": {},
   "source": [
    "As above, but categorical to numerical."
   ]
  },
  {
   "cell_type": "code",
   "execution_count": 96,
   "metadata": {},
   "outputs": [],
   "source": [
    "@[`train;;`None`Grvl`Pave!til 3] each `Alley`Street;\n",
    "@[`train;;`No`Po`Fa`TA`Gd`Ex!til 6] each `BsmtCond`BsmtQual`ExterCond`ExterQual`FireplaceQu`GarageCond`GarageQual`HeatingQC`KitchenQual;\n",
    "@[`train;`BsmtExposure;`No`Mn`Av`Gd!til 4];\n",
    "@[`train;;`No`Unf`LwQ`Rec`BLQ`ALQ`GLQ!til 7] each `BsmtFinType1`BsmtFinType2;\n",
    "@[`train;`Functional;`Sal`Sev`Maj2`Maj1`Mod`Min2`Min1`Typ!1+til 8];\n",
    "@[`train;`LandSlope;`Sev`Mod`Gtl!1+til 3];\n",
    "@[`train;`LotShape;`IR3`IR2`IR1`Reg!1+til 4];\n",
    "@[`train;`PavedDrive;`N`P`Y!til 3];\n",
    "@[`train;`PoolQC;`No`Fa`TA`Gd`Ex!til 5];\n",
    "@[`train;`Utilities;`ELO`NoSeWa`NoSewr`AllPub!1+til 4];"
   ]
  },
  {
   "cell_type": "markdown",
   "metadata": {},
   "source": [
    "### Feature Engineering\n",
    "\n",
    "Simplify some existing features to reduce their scope."
   ]
  },
  {
   "cell_type": "code",
   "execution_count": 97,
   "metadata": {},
   "outputs": [],
   "source": [
    "{![`train;();0b;enlist[`$\"Simpl\",string[x]]!enlist (((1+til 10)!1 1 1 2 2 2 3 3 3 3);x)]} each `OverallQual`OverallCond`GarageCond`GarageQual`FireplaceQu`KitchenQual`HeatingQC`BsmtFinType1`BsmtFinType2`BsmtCond`BsmtQual`ExterCond`ExterQual;\n",
    "{![`train;();0b;enlist[`$\"Simpl\",string[x]]!enlist (((1+til 8)!1 1 2 2 3 3 3 4);x)]} each `PoolQC`Functional;"
   ]
  },
  {
   "cell_type": "markdown",
   "metadata": {},
   "source": [
    "Combining features that are very similar to each other"
   ]
  },
  {
   "cell_type": "code",
   "execution_count": 98,
   "metadata": {},
   "outputs": [],
   "source": [
    "gradeFuncPrd:{[t;c1;c2;cNew]![t;();0b;enlist[`$string[cNew]]!enlist (*;c1;c2)]}"
   ]
  },
  {
   "cell_type": "code",
   "execution_count": 99,
   "metadata": {},
   "outputs": [],
   "source": [
    "combineFeat1:`OverallQual`GarageQual`ExterQual`KitchenAbvGr,\n",
    "    `Fireplaces`GarageArea`PoolArea`SimplOverallQual`SimplExterQual,\n",
    "    `PoolArea`GarageArea`Fireplaces`KitchenAbvGr;\n",
    "combineFeat2:`OverallCond`GarageCond`ExterCond`KitchenQual,\n",
    "    `FireplaceQu`GarageQual`PoolQC`SimplOverallCond`SimplExterCond,\n",
    "    `SimplPoolQC`SimplGarageQual`SimplFireplaceQu`SimplKitchenQual;\n",
    "combineFeat3:`OverallGrade`GarageGrade`ExterGrade`KitchenScore,\n",
    "    `FireplaceScore`GarageScore`PoolScore`SimplOverallGrade`SimplExterGrade,\n",
    "    `SimplPoolScore`SimplGarageScore`SimplFireplaceScore`SimplKitchenScore;\n",
    "\n",
    "train:train{gradeFuncPrd[x;]. y}/flip(combineFeat1; combineFeat2; combineFeat3);"
   ]
  },
  {
   "cell_type": "code",
   "execution_count": 100,
   "metadata": {},
   "outputs": [],
   "source": [
    "update TotalBath:BsmtFullBath+FullBath+0.5*BsmtHalfBath+HalfBath,\n",
    "  AllSF:GrLivArea+TotalBsmtSF,\n",
    "  AllFlrsSF:firFlrSF+secFlrSF,\n",
    "  AllPorchSF:OpenPorchSF+EnclosedPorch+threeSsnPorch+ScreenPorch,\n",
    "  HasMasVnr:((`BrkCmn`BrkFace`CBlock`Stone`None)!((4#1),0))[MasVnrType],\n",
    "  BoughtOffPlan:((`Abnorml`Alloca`AdjLand`Family`Normal`Partial)!((5#0),1))[SaleCondition]\n",
    " from `train;"
   ]
  },
  {
   "cell_type": "markdown",
   "metadata": {},
   "source": [
    "Find features that have a positive relationship with the Sale Price of the houses (our target to train against)."
   ]
  },
  {
   "cell_type": "code",
   "execution_count": 101,
   "metadata": {},
   "outputs": [],
   "source": [
    "corr:desc raze {enlist[x]!enlist train.SalePrice cor ?[train;();();x]} each exec c from meta[train] where not t=\"s\";"
   ]
  },
  {
   "cell_type": "code",
   "execution_count": 102,
   "metadata": {},
   "outputs": [
    {
     "data": {
      "text/plain": [
       "OverallQual     | 0.8192401\n",
       "AllSF           | 0.8172716\n",
       "AllFlrsSF       | 0.729421\n",
       "GrLivArea       | 0.7188441\n",
       "SimplOverallQual| 0.7079335\n",
       "ExterQual       | 0.6809463\n",
       "GarageCars      | 0.6804076\n",
       "TotalBath       | 0.6729288\n",
       "KitchenQual     | 0.6671735\n",
       "GarageScore     | 0.6568215\n"
      ]
     },
     "execution_count": 102,
     "metadata": {},
     "output_type": "execute_result"
    }
   ],
   "source": [
    "10#`SalePrice _corr // Top 10 most relevant features"
   ]
  },
  {
   "cell_type": "markdown",
   "metadata": {},
   "source": [
    "Create new polynomial features out of the above results."
   ]
  },
  {
   "cell_type": "code",
   "execution_count": 103,
   "metadata": {},
   "outputs": [],
   "source": [
    "polynom:{[t;c]\n",
    "  a:raze(!).'({`$string[x],/:(\"_2\";\"_3\";\"_sq\")};{((^;2;x);(^;3;x);(sqrt;x))})@\\:/:c;\n",
    "  ![t;();0b;a]\n",
    " }\n",
    "\n",
    "train:polynom[train;key 10#`SalePrice _corr];"
   ]
  },
  {
   "cell_type": "markdown",
   "metadata": {},
   "source": [
    "### Categorical and Numerical Features\n",
    "\n",
    "Start by splitting the data into numerical and categorical tables."
   ]
  },
  {
   "cell_type": "code",
   "execution_count": 104,
   "metadata": {},
   "outputs": [],
   "source": [
    ".feat.categorical:?[train;();0b;]{x!x} exec c from meta[train] where t=\"s\";\n",
    ".feat.numerical:?[train;();0b;]{x!x} (exec c from meta[train] where not t=\"s\") except `SalePrice;"
   ]
  },
  {
   "cell_type": "markdown",
   "metadata": {},
   "source": [
    "In the numerical data all nulls are filled with the median value of that feature. Bring outliers back in line using scipy's stats module."
   ]
  },
  {
   "cell_type": "code",
   "execution_count": 105,
   "metadata": {},
   "outputs": [],
   "source": [
    "![`.feat.numerical;();0b;{x!{(^;(med;x);x)}each x}cols .feat.numerical];\n",
    "skew:.p.import[`scipy.stats;`:skew];\n",
    "skewness:{skew[x]`}each flip .feat.numerical;\n",
    "@[`.feat.numerical;where abs[skewness]>0.5;{log[1+x]}];"
   ]
  },
  {
   "cell_type": "markdown",
   "metadata": {},
   "source": [
    "One-hot encoding the categorical features and combining the result with the above numerical features creates a numerical only representation of the cleaned and processed data set."
   ]
  },
  {
   "cell_type": "code",
   "execution_count": 106,
   "metadata": {},
   "outputs": [],
   "source": [
    "oneHot:{[pvt;t;clm]\n",
    "  t:?[t;();0b;{x!x}enlist[clm]];\n",
    "  prePvt:![t;();0b;`name`true!(($;enlist`;((/:;,);string[clm],\"_\";($:;clm)));1)];\n",
    "  pvtCol:asc exec distinct name from prePvt;\n",
    "  pvtTab:0^?[prePvt;();{x!x}enlist[clm];(#;`pvtCol;(!;`name;`true))];\n",
    "  pvtRes:![t lj pvtTab;();0b;enlist clm];$[()~pvt;pvtRes;pvt,'pvtRes]\n",
    " }\n",
    "\n",
    "train:.feat.numerical,'()oneHot[;.feat.categorical;]/cols .feat.categorical;"
   ]
  },
  {
   "cell_type": "code",
   "execution_count": 107,
   "metadata": {},
   "outputs": [
    {
     "data": {
      "text/plain": [
       "t\n",
       "-\n",
       "f\n",
       "j\n"
      ]
     },
     "execution_count": 107,
     "metadata": {},
     "output_type": "execute_result"
    }
   ],
   "source": [
    "select distinct t from meta train"
   ]
  },
  {
   "cell_type": "markdown",
   "metadata": {},
   "source": [
    "Take random samples from the data set and create 2 sets for comparison in the model."
   ]
  },
  {
   "cell_type": "code",
   "execution_count": 108,
   "metadata": {},
   "outputs": [],
   "source": [
    "trainIdx:-1019?exec i from train;\n",
    "X_train:train[trainIdx];\n",
    "yTrain:y[trainIdx];\n",
    "X_test:train[(exec i from train) except trainIdx];\n",
    "yTest:y[(exec i from train) except trainIdx];"
   ]
  },
  {
   "cell_type": "markdown",
   "metadata": {},
   "source": [
    "Standardize the features in the dataset that came from the numerical features table."
   ]
  },
  {
   "cell_type": "code",
   "execution_count": 109,
   "metadata": {},
   "outputs": [],
   "source": [
    "stdSc:{(x-avg x) % dev x};\n",
    "@[`X_train;;stdSc] each cols .feat.numerical;\n",
    "@[`X_test;;stdSc] each cols .feat.numerical;"
   ]
  },
  {
   "cell_type": "markdown",
   "metadata": {},
   "source": [
    "Transform the kdb+ tables into python readable matrices."
   ]
  },
  {
   "cell_type": "code",
   "execution_count": 110,
   "metadata": {},
   "outputs": [],
   "source": [
    "xTrain:flip value flip X_train;\n",
    "xTest:flip value flip X_test;"
   ]
  },
  {
   "cell_type": "markdown",
   "metadata": {},
   "source": [
    "### Modelling\n",
    "\n",
    "Using embedPy import the different modules which will be used to create a LASSO regresion model using the processed and cleaned data."
   ]
  },
  {
   "cell_type": "code",
   "execution_count": 111,
   "metadata": {},
   "outputs": [],
   "source": [
    "pd:.p.import`pandas;\n",
    "np:.p.import`numpy;\n",
    "cross_val_score:.p.import[`sklearn.model_selection;`:cross_val_score];\n",
    "qLassoCV:.p.import[`sklearn.linear_model;`:LassoCV];"
   ]
  },
  {
   "cell_type": "markdown",
   "metadata": {},
   "source": [
    "Numpy arrays of the data are created for using in training the model."
   ]
  },
  {
   "cell_type": "code",
   "execution_count": 112,
   "metadata": {},
   "outputs": [],
   "source": [
    "arrayTrainX:np[`:array][0^xTrain];\n",
    "arrayTrainY:np[`:array][yTrain];\n",
    "arrayTestX:np[`:array][0^xTest];\n",
    "arrayTestY:np[`:array][yTest];"
   ]
  },
  {
   "cell_type": "markdown",
   "metadata": {},
   "source": [
    "Create the LASSO model using a range of possible alphas and then fit the model to the Train data sets."
   ]
  },
  {
   "cell_type": "code",
   "execution_count": 113,
   "metadata": {},
   "outputs": [
    {
     "data": {
      "text/plain": [
       "0.01\n"
      ]
     },
     "execution_count": 113,
     "metadata": {},
     "output_type": "execute_result"
    }
   ],
   "source": [
    "qLassoCV:qLassoCV[`alphas pykw 0.0001 0.0003 0.0006 0.001 0.003 0.006 0.01 0.03 0.06 0.1 0.3 0.6 1; `max_iter pykw 50000; `cv pykw 10; `tol pykw 0.1]\n",
    "qLassoCV[`:fit][arrayTrainX;arrayTrainY];\n",
    "alpha:qLassoCV[`:alpha_]`;\n",
    "alpha"
   ]
  },
  {
   "cell_type": "markdown",
   "metadata": {},
   "source": [
    "Investigate the mean squared error of the model. An average of the outputs from cross-validation that is close to 0 is good."
   ]
  },
  {
   "cell_type": "code",
   "execution_count": 114,
   "metadata": {},
   "outputs": [
    {
     "data": {
      "text/plain": [
       "-0.1342246\n"
      ]
     },
     "execution_count": 114,
     "metadata": {},
     "output_type": "execute_result"
    }
   ],
   "source": [
    "crossValScore:.p.import[`sklearn;`:model_selection;`:cross_val_score];\n",
    "mseCV:{crossValScore[qLassoCV;x;y;`scoring pykw `neg_mean_squared_error]`};\n",
    "avg mseCV[np[`:array][0^xTrain];np[`:array][yTrain]]"
   ]
  },
  {
   "cell_type": "markdown",
   "metadata": {},
   "source": [
    "We see the majority of the features end up having a zero coefficient."
   ]
  },
  {
   "cell_type": "code",
   "execution_count": 115,
   "metadata": {},
   "outputs": [
    {
     "data": {
      "text/plain": [
       "286\n"
      ]
     },
     "execution_count": 115,
     "metadata": {},
     "output_type": "execute_result"
    }
   ],
   "source": [
    "count where 0=value impCoef:desc cols[train]!qLassoCV[`:coef_]`"
   ]
  },
  {
   "cell_type": "code",
   "execution_count": 116,
   "metadata": {},
   "outputs": [
    {
     "data": {
      "text/plain": [
       "KitchenQual      | 0.02731686\n",
       "TotalBsmtSF      | 0.02037732\n",
       "GrLivArea        | 0.02015293\n",
       "BsmtFullBath     | 0.02013518\n",
       "TotalBath_sq     | 0.01927112\n",
       "BsmtFinType2     | -0.01211568\n",
       "EnclosedPorch    | -0.01317329\n",
       "Street           | -0.01497302\n",
       "SimplKitchenScore| -0.01499085\n",
       "LandSlope        | -0.02155961\n"
      ]
     },
     "execution_count": 116,
     "metadata": {},
     "output_type": "execute_result"
    }
   ],
   "source": [
    "(5#impCoef),-5#impCoef"
   ]
  },
  {
   "cell_type": "markdown",
   "metadata": {},
   "source": [
    "Finally run the predictor against the other data set and compare results of the two in a matplotlib chart."
   ]
  },
  {
   "cell_type": "code",
   "execution_count": 117,
   "metadata": {},
   "outputs": [],
   "source": [
    "lassoTest:qLassoCV[`:predict][arrayTestX]"
   ]
  },
  {
   "cell_type": "code",
   "execution_count": 118,
   "metadata": {},
   "outputs": [],
   "source": [
    "qplt:.p.import[`matplotlib.pyplot];\n",
    "ptrain:qLassoCV[`:predict][arrayTrainX];\n",
    "ptest:qLassoCV[`:predict][arrayTestX];\n",
    "qplt[`:scatter][ptrain`;yTrain;`c pykw \"blue\";`marker pykw \"s\";`label pykw \"Training Data\"];\n",
    "qplt[`:scatter][ptest`;yTest;`c pykw \"lightgreen\";`marker pykw \"s\";`label pykw \"Validation Testing Data\"];\n",
    "qplt[`:title]\"Linear regression with Lasso regularization\";\n",
    "qplt[`:xlabel]\"Predicted values\";\n",
    "qplt[`:ylabel]\"Real values\";\n",
    "qplt[`:legend]`loc pykw \"upper left\";\n",
    "bounds:({floor min x};{ceiling max x})@\\:/:raze each((ptrain`;ptest`);(yTrain;yTest));\n",
    "bounds:4#bounds first idesc{abs x-y}./:bounds;\n",
    "qplt[`:axis]bounds;"
   ]
  },
  {
   "cell_type": "code",
   "execution_count": 119,
   "metadata": {},
   "outputs": [
    {
     "data": {
      "image/png": "[encoded data removed]",
      "text/plain": [
       "<Figure size 460.8x345.6 with 1 Axes>"
      ]
     },
     "metadata": {},
     "output_type": "display_data"
    }
   ],
   "source": [
    "qplt[`:show][];"
   ]
  }
 ],
 "metadata": {
  "kernelspec": {
   "display_name": "Q (kdb+)",
   "language": "q",
   "name": "qpk"
  },
  "language_info": {
   "file_extension": ".q",
   "mimetype": "text/x-q",
   "name": "q",
   "version": "3.6.0"
  }
 },
 "nbformat": 4,
 "nbformat_minor": 2
}
